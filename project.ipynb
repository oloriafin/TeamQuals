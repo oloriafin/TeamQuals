{
 "cells": [
  {
   "cell_type": "markdown",
   "id": "1e97227d",
   "metadata": {},
   "source": [
    "Data Cleaning Phase"
   ]
  },
  {
   "cell_type": "code",
   "execution_count": 2,
   "id": "18e10e52",
   "metadata": {},
   "outputs": [],
   "source": [
    "import pandas as pd"
   ]
  },
  {
   "cell_type": "code",
   "execution_count": null,
   "id": "e12cd502",
   "metadata": {},
   "outputs": [
    {
     "name": "stdout",
     "output_type": "stream",
     "text": [
      "   Issue id                                            Summary  \\\n",
      "0    223706  Configure unassigned keybindings, command name...   \n",
      "1    223658  Some suggestions are missing on Windows with pwsh   \n",
      "2    223641  Cannot split a terminal without a group [objec...   \n",
      "3    223622  SCM - history graph handling of first commit i...   \n",
      "4    223607          SCM - history graph using incorrect color   \n",
      "\n",
      "                     Created                   Resolved  \\\n",
      "0  2024-07-25 14:34:59+00:00                        NaN   \n",
      "1  2024-07-25 13:06:40+00:00  2024-07-25 16:14:57+00:00   \n",
      "2  2024-07-25 12:19:09+00:00                        NaN   \n",
      "3  2024-07-25 10:44:47+00:00                        NaN   \n",
      "4  2024-07-25 09:43:02+00:00  2024-07-25 11:02:46+00:00   \n",
      "\n",
      "                                         Description Resolution  \n",
      "0  - Place cursor in the panel chat\\r\\n- Open the...        NaN  \n",
      "1  I was trying to verify https://github.com/micr...  completed  \n",
      "2  ![image](https://github.com/user-attachments/a...        NaN  \n",
      "3  - [ ] Show the first commit in the repository ...        NaN  \n",
      "4  ![Image](https://github.com/user-attachments/a...  completed  \n",
      "<class 'pandas.core.frame.DataFrame'>\n",
      "RangeIndex: 32829 entries, 0 to 32828\n",
      "Data columns (total 6 columns):\n",
      " #   Column       Non-Null Count  Dtype \n",
      "---  ------       --------------  ----- \n",
      " 0   Issue id     32829 non-null  int64 \n",
      " 1   Summary      32829 non-null  object\n",
      " 2   Created      32829 non-null  object\n",
      " 3   Resolved     30145 non-null  object\n",
      " 4   Description  32603 non-null  object\n",
      " 5   Resolution   30237 non-null  object\n",
      "dtypes: int64(1), object(5)\n",
      "memory usage: 1.5+ MB\n",
      "The data types in the rows are: None\n",
      "Summary statistics:             Issue id\n",
      "count   32829.000000\n",
      "mean    97677.857504\n",
      "std     63343.456994\n",
      "min         3.000000\n",
      "25%     40316.000000\n",
      "50%     95466.000000\n",
      "75%    149101.000000\n",
      "max    223706.000000\n"
     ]
    }
   ],
   "source": [
    "dataset = pd.read_csv('vscode_bugs.csv')\n",
    "print(dataset.head())\n",
    "print(f\"The data types in the rows are: \\n {dataset.info()}\")\n",
    "print(f\"Summary statistics: {dataset.describe()}\")"
   ]
  },
  {
   "cell_type": "code",
   "execution_count": null,
   "id": "0dbe5fe4",
   "metadata": {},
   "outputs": [],
   "source": []
  }
 ],
 "metadata": {
  "kernelspec": {
   "display_name": "Python 3",
   "language": "python",
   "name": "python3"
  },
  "language_info": {
   "codemirror_mode": {
    "name": "ipython",
    "version": 3
   },
   "file_extension": ".py",
   "mimetype": "text/x-python",
   "name": "python",
   "nbconvert_exporter": "python",
   "pygments_lexer": "ipython3",
   "version": "3.10.11"
  }
 },
 "nbformat": 4,
 "nbformat_minor": 5
}
