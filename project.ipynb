{
 "cells": [
  {
   "cell_type": "markdown",
   "id": "1e97227d",
   "metadata": {},
   "source": [
    "Data Cleaning Phase"
   ]
  },
  {
   "cell_type": "code",
   "execution_count": 29,
   "id": "18e10e52",
   "metadata": {},
   "outputs": [],
   "source": [
    "import pandas as pd"
   ]
  },
  {
   "cell_type": "code",
   "execution_count": null,
   "id": "e12cd502",
   "metadata": {},
   "outputs": [
    {
     "name": "stdout",
     "output_type": "stream",
     "text": [
      "   Issue id                                            Summary  \\\n",
      "0    223706  Configure unassigned keybindings, command name...   \n",
      "1    223658  Some suggestions are missing on Windows with pwsh   \n",
      "2    223641  Cannot split a terminal without a group [objec...   \n",
      "3    223622  SCM - history graph handling of first commit i...   \n",
      "4    223607          SCM - history graph using incorrect color   \n",
      "\n",
      "                     Created                   Resolved  \\\n",
      "0  2024-07-25 14:34:59+00:00                        NaN   \n",
      "1  2024-07-25 13:06:40+00:00  2024-07-25 16:14:57+00:00   \n",
      "2  2024-07-25 12:19:09+00:00                        NaN   \n",
      "3  2024-07-25 10:44:47+00:00                        NaN   \n",
      "4  2024-07-25 09:43:02+00:00  2024-07-25 11:02:46+00:00   \n",
      "\n",
      "                                         Description Resolution  \n",
      "0  - Place cursor in the panel chat\\r\\n- Open the...        NaN  \n",
      "1  I was trying to verify https://github.com/micr...  completed  \n",
      "2  ![image](https://github.com/user-attachments/a...        NaN  \n",
      "3  - [ ] Show the first commit in the repository ...        NaN  \n",
      "4  ![Image](https://github.com/user-attachments/a...  completed  \n",
      "<class 'pandas.core.frame.DataFrame'>\n",
      "RangeIndex: 32829 entries, 0 to 32828\n",
      "Data columns (total 6 columns):\n",
      " #   Column       Non-Null Count  Dtype \n",
      "---  ------       --------------  ----- \n",
      " 0   Issue id     32829 non-null  int64 \n",
      " 1   Summary      32829 non-null  object\n",
      " 2   Created      32829 non-null  object\n",
      " 3   Resolved     30145 non-null  object\n",
      " 4   Description  32603 non-null  object\n",
      " 5   Resolution   30237 non-null  object\n",
      "dtypes: int64(1), object(5)\n",
      "memory usage: 1.5+ MB\n",
      "\n",
      " None\n",
      "\n",
      "            Issue id\n",
      "count   32829.000000\n",
      "mean    97677.857504\n",
      "std     63343.456994\n",
      "min         3.000000\n",
      "25%     40316.000000\n",
      "50%     95466.000000\n",
      "75%    149101.000000\n",
      "max    223706.000000\n"
     ]
    }
   ],
   "source": [
    "dt = pd.read_csv('vscode_bugs.csv')\n",
    "print(dt.head())\n",
    "print(f\"\\n {dt.info()}\")\n",
    "print(f\"\\n{dt.describe()}\")"
   ]
  },
  {
   "cell_type": "code",
   "execution_count": 31,
   "id": "0dbe5fe4",
   "metadata": {},
   "outputs": [
    {
     "name": "stdout",
     "output_type": "stream",
     "text": [
      "1\n",
      "0\n"
     ]
    }
   ],
   "source": [
    "print(dt.duplicated().sum()) #to count the number of duplicated rows if exist\n",
    "dt.drop_duplicates(inplace=True)   #to remove the duplicates\n",
    "\n",
    "print(dt.duplicated().sum())   #verify if duplicates still exist"
   ]
  },
  {
   "cell_type": "code",
   "execution_count": 32,
   "id": "8d0527a3",
   "metadata": {},
   "outputs": [
    {
     "name": "stderr",
     "output_type": "stream",
     "text": [
      "C:\\Users\\Rest\\AppData\\Local\\Temp\\ipykernel_14404\\1698058673.py:5: UserWarning: Parsing dates in %Y-%m-%d %H:%M:%S%z format when dayfirst=True was specified. Pass `dayfirst=False` or specify a format to silence this warning.\n",
      "  dt['Created'] = pd.to_datetime(dt['Created'], errors='coerce', dayfirst=True)     #this converts the day and time in the Created column to readable datetime object\n"
     ]
    },
    {
     "name": "stdout",
     "output_type": "stream",
     "text": [
      "0    Configure unassigned keybindings, command name...\n",
      "1    Some suggestions are missing on Windows with p...\n",
      "2    Cannot split a terminal without a group [objec...\n",
      "3    SCM - history graph handling of first commit i...\n",
      "4    SCM - history graph using incorrect color  ![I...\n",
      "Name: Notes, dtype: object\n"
     ]
    }
   ],
   "source": [
    "from sklearn.preprocessing import LabelEncoder\n",
    "\n",
    "encoder = LabelEncoder()\n",
    "\n",
    "dt['Created'] = pd.to_datetime(dt['Created'], errors='coerce', dayfirst=True)     #this converts the day and time in the Created column to readable datetime object\n",
    "dt = dt.dropna(subset=['Created'])    #if a row fails to covert, drop the row\n",
    "\n",
    "#for rows that have missing decriptions\n",
    "dt['Description'] = dt['Description'].fillna('')\n",
    "\n",
    "dt['Notes'] = dt['Summary'] + '  ' + dt['Description']    #combine the summary and description columns into one text column\n",
    "print(dt['Notes'].head())        #check out the data for validity\n",
    "\n"
   ]
  },
  {
   "cell_type": "code",
   "execution_count": 33,
   "id": "23bb1b4c",
   "metadata": {},
   "outputs": [
    {
     "name": "stdout",
     "output_type": "stream",
     "text": [
      "0    Configure unassigned keybindings command name ...\n",
      "1    Some suggestions are missing on Windows with p...\n",
      "2    Cannot split a terminal without a group object...\n",
      "3    SCM  history graph handling of first commit in...\n",
      "4    SCM  history graph using incorrect color  Imag...\n",
      "Name: Notes, dtype: object\n"
     ]
    }
   ],
   "source": [
    "import re\n",
    "\n",
    "#remove special characters\n",
    "dt['Notes'] = dt['Notes'].apply(lambda x: re.sub(r'[^A-Za-z0-9 ]', '', x))        #this takes care of special characters using the re.sub() function\n",
    "print(dt['Notes'].head())       #verify if those changes have been made\n"
   ]
  },
  {
   "cell_type": "code",
   "execution_count": 34,
   "id": "e234d7d4",
   "metadata": {},
   "outputs": [
    {
     "name": "stdout",
     "output_type": "stream",
     "text": [
      "0    configure unassigned keybindings command name ...\n",
      "1    some suggestions are missing on windows with p...\n",
      "2    cannot split a terminal without a group object...\n",
      "3    scm  history graph handling of first commit in...\n",
      "4    scm  history graph using incorrect color  imag...\n",
      "Name: Notes, dtype: object\n"
     ]
    }
   ],
   "source": [
    "#normalize to lowercase\n",
    "dt['Notes'] = dt['Notes'].apply(lambda x: x.lower())\n",
    "print(dt['Notes'].head())       #verify if those changes have been made\n"
   ]
  }
 ],
 "metadata": {
  "kernelspec": {
   "display_name": "Python 3",
   "language": "python",
   "name": "python3"
  },
  "language_info": {
   "codemirror_mode": {
    "name": "ipython",
    "version": 3
   },
   "file_extension": ".py",
   "mimetype": "text/x-python",
   "name": "python",
   "nbconvert_exporter": "python",
   "pygments_lexer": "ipython3",
   "version": "3.10.11"
  }
 },
 "nbformat": 4,
 "nbformat_minor": 5
}
